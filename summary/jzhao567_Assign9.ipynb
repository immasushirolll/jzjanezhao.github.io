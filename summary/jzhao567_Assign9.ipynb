{
 "cells": [
  {
   "cell_type": "markdown",
   "metadata": {},
   "source": [
    "# Assignment 9: Multiple regression\n",
    "\n",
    "### Learning Outcomes\n",
    "This assignment introduces you to multiple regression analysis, model comparision between different multiple regression models and bootstrap for regression models. \n",
    "### Data set \n",
    "An investigator is interested in understanding the relationship, if any, between the analytical skills of young gifted children and the following variables: father’s IQ, mother’s IQ, age in month when the child first said ‘mummy’ or ‘daddy’, age in month when the child first counted to 10 successfully, average number of hours per week the child’s mother or father reads to the child, average number of hours per week the child watched an educational program on TV during the past three months, average number of hours per week the child watched cartoons on TV during the past three months. \n",
    "\n",
    "The analytical skills are evaluated using a standard testing procedure, and the score on this test is used as the response variable. Data were collected from schools in a large city on a set of thirty-six children who were identified as gifted children soon after they reached the age of four.\n",
    " \n",
    "The data frame stored in gifted.csv contains the variables: \n",
    "- score:       Score in test of analytical skills.\n",
    "- fatheriq:    Father’s IQ.\n",
    "- motheriq:  Mother’s IQ.\n",
    "- speak:       Age in months when the child first said ‘mummy’ or ‘daddy’.\n",
    "- count:       Age in months when the child first counted to 10 successfully.\n",
    "- read:         Average number of hours per week the child’s mother or father reads to the child.\n",
    "- edutv:       Average number of hours per week the child watched an educational program on TV during the past three months.\n",
    "- cartoons:  Average number of hours per week the child watched cartoons on TV during the past three months.\n",
    "\n",
    "### Preliminaries\n",
    "Set up the environment by importing pandas, numpy, and matplotlib, scipy.optimize. This is already done in the preliminaries. Ensure that you have fully mastered and understood HW7 before starting the assignment. \n"
   ]
  },
  {
   "cell_type": "code",
   "execution_count": 2,
   "metadata": {},
   "outputs": [],
   "source": [
    "import matplotlib.pyplot as plt \n",
    "import scipy.optimize as so\n",
    "import pandas as pd \n",
    "import numpy as np"
   ]
  },
  {
   "cell_type": "markdown",
   "metadata": {},
   "source": [
    "## Task 1: Implementing multiple regression ( / 28 pts)\n",
    "### Question 1.1 ( / 6 pts)\n",
    "Implement the function multRegPredict(b,D,xname). \n",
    "  - b is a list of parameter, with the first one being the intercept \n",
    "  - D is a DataFrame that contains the regressors\n",
    "  - xname is a list of column names in D that will be added as regressors \n",
    "\n",
    "b needs to contain one more parameter (the intercept) than the numbers of regressors in xname. It will be helpful to start from the corresponding functions from last homework for polynomial regression. \n",
    "\n",
    "Then make a scatterplot of D.read and D.score \n",
    "Call your new function with yp = multRegPredict([134,11.8], D,['read']) and add predicted values to your plot (just call plt.scatter again – the dots will be added in a different color).  "
   ]
  },
  {
   "cell_type": "code",
   "execution_count": 3,
   "metadata": {},
   "outputs": [
    {
     "data": {
      "image/png": "[encoded data removed]",
      "text/plain": [
       "<Figure size 640x480 with 1 Axes>"
      ]
     },
     "metadata": {},
     "output_type": "display_data"
    }
   ],
   "source": [
    "# load in data set\n",
    "df = pd.read_csv(\"gifted.csv\")\n",
    "df\n",
    "\n",
    "# multiple regression model\n",
    "def multRegPredict(b, D, xname):\n",
    "    # initialize predicted y to be the intercept\n",
    "    yp = np.ones(len(D.index))*b[0]\n",
    "    \n",
    "    for i in np.arange(len(xname)):\n",
    "        yp = yp + D[xname[i]]*b[i+1]\n",
    "    \n",
    "    return yp\n",
    "\n",
    "# scatterplot of D.read and D.score\n",
    "plt.scatter(df.read, df.score)\n",
    "\n",
    "# call function\n",
    "yp = multRegPredict(b = [134, 11.8], D = df, xname = [\"read\"])\n",
    "\n",
    "# plot predicted values\n",
    "plt.scatter(df.read, yp)\n",
    "plt.show()\n"
   ]
  },
  {
   "cell_type": "markdown",
   "metadata": {},
   "source": [
    "Figure 1. Scatter plot of observed and predicted values for read vs. score."
   ]
  },
  {
   "cell_type": "markdown",
   "metadata": {},
   "source": [
    "### Question 1.2 ( / 10 pts)\n",
    "Implement the function multRegLossRSS(b,D,y,xname). y is a list or np-array for the response variable. The function should get the predictions from multRegPredict, and then calculate the residual sum-of-squares, and the derivative of the loss function in respect to each parameter. Test the function by calling multRegLossRSS([134,11.8],D,D.score,['read']). Report the resulting RSS for the regression of score (response variable) against read (explanatory variable)- as well as the derivatives for each parameter. Written answer: From the value of the derivative, do you have to increase or decrease the slope parameter to get a better fit?"
   ]
  },
  {
   "cell_type": "code",
   "execution_count": 4,
   "metadata": {},
   "outputs": [
    {
     "data": {
      "text/plain": [
       "(543.5100000000003, array([ 4.84, 10.3 ]))"
      ]
     },
     "execution_count": 4,
     "metadata": {},
     "output_type": "execute_result"
    }
   ],
   "source": [
    "def multRegLossRSS(b, D, y, xname):\n",
    "    # get predicted y-values \n",
    "    yp = multRegPredict(b, D, xname)\n",
    "    \n",
    "    # calculate RSS\n",
    "    res = y - yp\n",
    "    res2 = res**2\n",
    "    RSS = sum(res2)\n",
    "\n",
    "    # initialize derivative array !!! 3?? what is this supposed to be\n",
    "    deriv = np.zeros(len(b))\n",
    "\n",
    "    # derivative in respect to intercept\n",
    "    deriv[0] = -2*sum(res)\n",
    "\n",
    "    # derivative in respect to the ith explanatory variable\n",
    "    for i in range(len(xname)):\n",
    "        xi = D[xname[i]]\n",
    "        deriv[i + 1] = -2*np.sum(xi*res)\n",
    "    \n",
    "    return (RSS, deriv)\n",
    "\n",
    "# call function\n",
    "multRegLossRSS(b = [134,11.8], D = df, y = df.score, xname = ['read'])"
   ]
  },
  {
   "cell_type": "markdown",
   "metadata": {},
   "source": [
    "The slope parameter should be decreased to get a better fit."
   ]
  },
  {
   "cell_type": "markdown",
   "metadata": {},
   "source": [
    "### Question 1.3 ( / 12 pts)\n",
    "Implement the function multRegFit(D,y,xname), which uses so.minimize and multRegLossRSS to estimate the parameter values, and then calls multRegLossRSS again to calculate the R2 of the fit. The function should then return the R2 values and regression coefficients b. Use this print on the screen the R2-values for the models:\n",
    "\n",
    "- y = b0  (hint, set xname = [])\n",
    "- y = b0 + b1 \\* read \n",
    "- y = b0 + b1 \\* motheriq \n",
    "- y = b0 + b1 \\* motheriq + b2 \\* read\n",
    "\n",
    "Which model has the highest R2? How do you interpret these results? How much of the variance of the response variable is uniquely explained by reading, how much by motheriq? Do the two variables explain each other away, explain independent parts of the variance, or show suppression? "
   ]
  },
  {
   "cell_type": "code",
   "execution_count": 5,
   "metadata": {},
   "outputs": [],
   "source": [
    "def multRegFit(D, y, xname = []):\n",
    "    # N = number of parameters\n",
    "    N = len(xname)      \n",
    "    b0 = np.zeros(N + 1)\n",
    "\n",
    "    # estimate parameter values\n",
    "    RESULT = so.minimize(multRegLossRSS, b0, args = (D, y, xname), jac = True)\n",
    "    b = RESULT.x    # Results\n",
    "    # print(b)\n",
    "    \n",
    "    # calculate RSS\n",
    "    RSS, deriv = multRegLossRSS(b, D, y, xname)\n",
    "\n",
    "    # calculate TSS\n",
    "    res = y - np.mean(y)\n",
    "    TSS = sum(res**2)\n",
    "\n",
    "    # calculate R2\n",
    "    R2 = 1 - RSS/TSS\n",
    "\n",
    "    return (R2, b)\n",
    "\n",
    "# dimension of b0 not right"
   ]
  },
  {
   "cell_type": "code",
   "execution_count": 6,
   "metadata": {},
   "outputs": [
    {
     "data": {
      "text/plain": [
       "(3.3306690738754696e-16, array([159.13888889]))"
      ]
     },
     "execution_count": 6,
     "metadata": {},
     "output_type": "execute_result"
    }
   ],
   "source": [
    "# y = b0  (hint, set xname = [])\n",
    "multRegFit(D = df, y = df.score, xname = [])"
   ]
  },
  {
   "cell_type": "code",
   "execution_count": 7,
   "metadata": {},
   "outputs": [
    {
     "data": {
      "text/plain": [
       "(0.2758322729769085, array([133.9048511 ,  11.81307361]))"
      ]
     },
     "execution_count": 7,
     "metadata": {},
     "output_type": "execute_result"
    }
   ],
   "source": [
    "# y = b0 + b1 * read\n",
    "multRegFit(D = df, y = df.score, xname = [\"read\"])"
   ]
  },
  {
   "cell_type": "code",
   "execution_count": 8,
   "metadata": {},
   "outputs": [
    {
     "data": {
      "text/plain": [
       "(0.3263173772377881, array([111.09295521,   0.40659464]))"
      ]
     },
     "execution_count": 8,
     "metadata": {},
     "output_type": "execute_result"
    }
   ],
   "source": [
    "# y = b0 + b1 * motheriq\n",
    "multRegFit(D = df, y = df.score, xname = [\"motheriq\"])"
   ]
  },
  {
   "cell_type": "code",
   "execution_count": 9,
   "metadata": {},
   "outputs": [
    {
     "data": {
      "text/plain": [
       "(0.6291342380411358, array([82.63542504,  0.42346452, 12.38890287]))"
      ]
     },
     "execution_count": 9,
     "metadata": {},
     "output_type": "execute_result"
    }
   ],
   "source": [
    "# y = b0 + b1 * motheriq + b2 * read\n",
    "multRegFit(D = df, y = df.score, xname = [\"motheriq\", \"read\"])"
   ]
  },
  {
   "cell_type": "markdown",
   "metadata": {},
   "source": [
    "The final model with motheriq and read has the highest R2. More of the variance of the response variable is explained by motheriq than read. However, the joined predicted variance is about equal to the sum of the individual predicted values, which implies that these two variables explain independent parts of the variance and may not be strongly correlated (are independent predictors)."
   ]
  },
  {
   "cell_type": "markdown",
   "metadata": {},
   "source": [
    "## Task 2: Do crossvalidation on these models  ( / 32 pts)\n",
    "### Question 2.1 ( / 12 pts)\n",
    "Modify the leaveOneOutCV function from last homework, so it works on a data frame with the multiple regression analysis. The inputs to the function are:  \n",
    "\n",
    "def leaveOneOutCV(D,y,args=(),fitfcn=multRegFit,predictfcn=multRegPredict):\n",
    " - D: Data Frame with explanatory variables \n",
    " - y: A list or np-array of the response variable\n",
    " - args: Input arguments for the fitfcn and predict function (xname) \n",
    " - fitfcn: Function for fitting called as fitfcn(D,y,args)\n",
    " - predictfcn: Function for prediction called as predictfcn(D,y,args)\n"
   ]
  },
  {
   "cell_type": "code",
   "execution_count": 10,
   "metadata": {},
   "outputs": [],
   "source": [
    "def leaveOneOutCV(D, y, args = (), fitfcn = multRegFit, predictfcn = multRegPredict):\n",
    "    N = len(D.index)\n",
    "    yp = np.zeros(N)\n",
    "    ind = np.arange(N)\n",
    "\n",
    "    for i in range(N):\n",
    "        train = ind != i   # this is training set\n",
    "        test = ind == i    # this is test set\n",
    "        r, b = fitfcn(D[train], y[train], args)\n",
    "        yp[i] = predictfcn(b, D[test], args)  \n",
    "    \n",
    "    # calculate R-squared after cross validation\n",
    "    TSS  = sum((y - y.mean())**2)\n",
    "    RSScv = sum((y - yp)**2)\n",
    "    R2cv = 1 - RSScv/TSS\n",
    "\n",
    "    return R2cv\n",
    "\n",
    "R2cv = leaveOneOutCV(D = df, y = df.score, args = [\"motheriq\", \"read\"])"
   ]
  },
  {
   "cell_type": "markdown",
   "metadata": {},
   "source": [
    "### Question 2.2 ( / 8 pts)\n",
    "Call the function to get the cross-validated $R^2$ for the 4 models specified in Task 1, Question 3. How to you interpret these results? Is there evidence that reading increases the analytic score over and above what the IQ of the mother does? "
   ]
  },
  {
   "cell_type": "code",
   "execution_count": 11,
   "metadata": {},
   "outputs": [
    {
     "data": {
      "text/plain": [
       "-0.05795918367345809"
      ]
     },
     "execution_count": 11,
     "metadata": {},
     "output_type": "execute_result"
    }
   ],
   "source": [
    "leaveOneOutCV(D = df, y = df.score, args = [])"
   ]
  },
  {
   "cell_type": "code",
   "execution_count": 12,
   "metadata": {},
   "outputs": [
    {
     "data": {
      "text/plain": [
       "0.2041976646172461"
      ]
     },
     "execution_count": 12,
     "metadata": {},
     "output_type": "execute_result"
    }
   ],
   "source": [
    "leaveOneOutCV(D = df, y = df.score, args = [\"read\"])"
   ]
  },
  {
   "cell_type": "code",
   "execution_count": 13,
   "metadata": {},
   "outputs": [
    {
     "data": {
      "text/plain": [
       "0.236467819730799"
      ]
     },
     "execution_count": 13,
     "metadata": {},
     "output_type": "execute_result"
    }
   ],
   "source": [
    "leaveOneOutCV(D = df, y = df.score, args = [\"motheriq\"])"
   ]
  },
  {
   "cell_type": "code",
   "execution_count": 14,
   "metadata": {},
   "outputs": [
    {
     "data": {
      "text/plain": [
       "0.5760093389164505"
      ]
     },
     "execution_count": 14,
     "metadata": {},
     "output_type": "execute_result"
    }
   ],
   "source": [
    "leaveOneOutCV(D = df, y = df.score, args = [\"motheriq\", \"read\"])"
   ]
  },
  {
   "cell_type": "markdown",
   "metadata": {},
   "source": [
    "R-squared values from read and motheriq individually then summed together is lower than the R-squared value we get from considering both variables (0.576). Reading increases the score over and above what motheriq does. This means that the model fits better when considering both variables than considering each individually, and that read and motheriq are correlated regressors."
   ]
  },
  {
   "cell_type": "markdown",
   "metadata": {},
   "source": [
    "### Question 2.3 ( / 4 pts)\n",
    "Add the variable fatheriq to the model containing read and motheriq. Is there evidence that the IQ of the father improves the prediction over and above what hours reading and mother IQ can predict? "
   ]
  },
  {
   "cell_type": "code",
   "execution_count": 15,
   "metadata": {},
   "outputs": [
    {
     "data": {
      "text/plain": [
       "0.6326907019137389"
      ]
     },
     "execution_count": 15,
     "metadata": {},
     "output_type": "execute_result"
    }
   ],
   "source": [
    "leaveOneOutCV(D = df, y = df.score, args = [\"motheriq\", \"read\", \"fatheriq\"])"
   ]
  },
  {
   "cell_type": "code",
   "execution_count": 16,
   "metadata": {},
   "outputs": [
    {
     "data": {
      "text/plain": [
       "-0.06615530607380293"
      ]
     },
     "execution_count": 16,
     "metadata": {},
     "output_type": "execute_result"
    }
   ],
   "source": [
    "leaveOneOutCV(D = df, y = df.score, args = [\"fatheriq\"])"
   ]
  },
  {
   "cell_type": "markdown",
   "metadata": {},
   "source": [
    "fatheriq does improve the prediction over just the prediction suggested by motheriq and read."
   ]
  },
  {
   "cell_type": "markdown",
   "metadata": {},
   "source": [
    "### Question 2.4 ( / 8 pts)\n",
    "Is edutv (hours of educational TV) alone a reliable predictor of the analytic score? Does it add prediction power over and above from what the model motheriq + read + fatheriq can predict? \n"
   ]
  },
  {
   "cell_type": "code",
   "execution_count": 17,
   "metadata": {},
   "outputs": [
    {
     "data": {
      "text/plain": [
       "0.037315563547507424"
      ]
     },
     "execution_count": 17,
     "metadata": {},
     "output_type": "execute_result"
    }
   ],
   "source": [
    "leaveOneOutCV(D = df, y = df.score, args = [\"edutv\"])"
   ]
  },
  {
   "cell_type": "code",
   "execution_count": 18,
   "metadata": {},
   "outputs": [
    {
     "data": {
      "text/plain": [
       "0.6209659528061651"
      ]
     },
     "execution_count": 18,
     "metadata": {},
     "output_type": "execute_result"
    }
   ],
   "source": [
    "leaveOneOutCV(D = df, y = df.score, args = [\"motheriq\", \"read\", \"fatheriq\", \"edutv\"])"
   ]
  },
  {
   "cell_type": "markdown",
   "metadata": {},
   "source": [
    "Edutv alone is not a reliable predictor of score. It does not add prediction power when considered with motheriq, read, and fatheriq. The R2 value actually decreases slightly so the fit decreases when includingi edutv."
   ]
  },
  {
   "cell_type": "markdown",
   "metadata": {},
   "source": [
    "## Task 3: Bootstrap for multiple regression. ( / 40 pts)\n",
    "### Question 3.1 ( / 14 pts)\n",
    "Implement bootstrap for linear regression. Start from the function bootstrap from Homework 3. The function should have input parameters\n",
    "\n",
    "```\n",
    "def bootstrapReg(D,y,args,fitfcn,numIter=500):\n",
    "```\n",
    "and should return a numIter x numParams np.array of bootstrap estimates.  \n",
    "\n",
    "fitfcn is the function that will be used to get the parameter estimates.\n",
    "numParams is the length of b-vector returned from the fitfcn (in our case multiRegFit). That is, each column of the array should be the boostrap estimates for one of the regression coefficients. \n",
    "\n",
    "Note: you will also have to use here the following functions (add them to your notebook): \n",
    "- confidenceInt from HW 3\n",
    "\n",
    "Run the bootstrap on the data set in gifted.csv. Run the bootstrap on a simple regression model that explains ‘score’ from the explanatory variable ‘edutv’ alone. Report the CI for edutv -slope. Does the CI include zero - i.e. is there evidence that the relationship between edutv and score is not zero? Which direction is the association between the two variables? "
   ]
  },
  {
   "cell_type": "code",
   "execution_count": 21,
   "metadata": {},
   "outputs": [],
   "source": [
    "# confidence interval function\n",
    "def confidenceInt(data, percentage):    \n",
    "    # percentile bootstrap method\n",
    "    tail = (100 - percentage)/2\n",
    "    CI = (np.percentile(data, tail), np.percentile(data, percentage))\n",
    "    \n",
    "    return CI\n",
    "\n",
    "def bootstrapReg(D, y, args = (), fitfcn = multRegFit, numIter = 500):\n",
    "    # figure out length of b (numParam)\n",
    "    R2, b = fitfcn(D, y, args)\n",
    "    numParam = len(b)\n",
    "\n",
    "    # N is number of rows in df\n",
    "    N = len(df.index)\n",
    "    ind = np.arange(N)\n",
    "\n",
    "    # initialize stats\n",
    "    stats = np.zeros((numIter, numParam))   # needs to call multregfit\n",
    "    \n",
    "    for i in range(numIter):\n",
    "        # sample N indices from ind (with replacement)\n",
    "        sample = np.random.choice(ind, N)\n",
    "\n",
    "        # fit model for current iteration and get params for current iteration\n",
    "        R2, b = fitfcn(D.iloc[sample], y[sample], args)  \n",
    "        stats[i, :] = b\n",
    "   \n",
    "    return stats"
   ]
  },
  {
   "cell_type": "code",
   "execution_count": 53,
   "metadata": {},
   "outputs": [
    {
     "data": {
      "text/plain": [
       "(0.47563446418148975, -5.220822697699516)"
      ]
     },
     "execution_count": 53,
     "metadata": {},
     "output_type": "execute_result"
    }
   ],
   "source": [
    "vals = bootstrapReg(D = df, y = df.score, args = [\"edutv\"])\n",
    "confidenceInt(data = vals, percentage = 0.95)"
   ]
  },
  {
   "attachments": {},
   "cell_type": "markdown",
   "metadata": {},
   "source": [
    "The confidence interval for edutv slope is (0.48, -5.22), which does include zero, so edutv has no positive influence. The variables have a slight negative association."
   ]
  },
  {
   "cell_type": "markdown",
   "metadata": {},
   "source": [
    "### Question 3.2 ( / 8 pts)\n",
    "Run the bootstrap on the model that explains score as a function of hours of cartoons watched. Does the confidence interval for the slope between ‘cartoons’ and ‘score’ include zero? "
   ]
  },
  {
   "cell_type": "code",
   "execution_count": 56,
   "metadata": {},
   "outputs": [
    {
     "data": {
      "text/plain": [
       "(4.599070737685119, -0.5307578626694103)"
      ]
     },
     "execution_count": 56,
     "metadata": {},
     "output_type": "execute_result"
    }
   ],
   "source": [
    "vals = bootstrapReg(D = df, y = df.score, args = [\"cartoons\"])\n",
    "confidenceInt(data = vals, percentage = 0.95)"
   ]
  },
  {
   "attachments": {},
   "cell_type": "markdown",
   "metadata": {},
   "source": [
    "The confidence interval = (4.60, -0.53) which does include zero."
   ]
  },
  {
   "cell_type": "markdown",
   "metadata": {},
   "source": [
    "### Question 3.3 ( / 8 pts)\n",
    "Run the bootstrap on a model that explains score as a function of edutv and cartoons. Report the CIs for both variabless. Do the conclusion from Question 1 and 2 change? Have the CIs become smaller or larger as compared to the simple regression models from Question 1 and 2?"
   ]
  },
  {
   "cell_type": "code",
   "execution_count": 59,
   "metadata": {},
   "outputs": [
    {
     "data": {
      "text/plain": [
       "(-8.147786083864148, -15.673565556710267)"
      ]
     },
     "execution_count": 59,
     "metadata": {},
     "output_type": "execute_result"
    }
   ],
   "source": [
    "values = bootstrapReg(D = df, y = df.score, args = [\"edutv\", \"cartoons\"])\n",
    "\n",
    "# CI for slope of edutv\n",
    "confidenceInt(data = values[:, 1], percentage = 0.95)"
   ]
  },
  {
   "cell_type": "code",
   "execution_count": 61,
   "metadata": {},
   "outputs": [
    {
     "data": {
      "text/plain": [
       "(-4.862608702467865, -12.03063050163102)"
      ]
     },
     "execution_count": 61,
     "metadata": {},
     "output_type": "execute_result"
    }
   ],
   "source": [
    "# CI for slope of cartoons\n",
    "confidenceInt(data = values[:, 2], percentage = 0.95)"
   ]
  },
  {
   "attachments": {},
   "cell_type": "markdown",
   "metadata": {},
   "source": [
    "Both variables now do not include zero, implying there is an influence. The confidence intervals are slightly larger compared to the simple regression models."
   ]
  },
  {
   "cell_type": "markdown",
   "metadata": {},
   "source": [
    "### Question 3.4 ( / 10 pts)\n",
    "Plot the bootstrap estimates for edutv and cartoons from Question 3 against each other in a scatter plot. Are they positively or negatively related? What does this mean for the relationship between the regressors?"
   ]
  },
  {
   "cell_type": "code",
   "execution_count": 49,
   "metadata": {},
   "outputs": [
    {
     "data": {
      "image/png": "[encoded data removed]",
      "text/plain": [
       "<Figure size 640x480 with 1 Axes>"
      ]
     },
     "metadata": {},
     "output_type": "display_data"
    }
   ],
   "source": [
    "# call bootstrap\n",
    "values = bootstrapReg(D = df, y = df.score, args = [\"edutv\", \"cartoons\"])\n",
    "\n",
    "# get second and third column\n",
    "edutv_boot = vals[:, 1]\n",
    "cartoons_boot = vals[:, 2]\n",
    "\n",
    "# plot scatter plot\n",
    "plt.scatter(edutv_boot, cartoons_boot)\n",
    "plt.show()"
   ]
  },
  {
   "attachments": {},
   "cell_type": "markdown",
   "metadata": {},
   "source": [
    "Slope estimates for edutv and cartoons appears to be positively related. This means that the regressors are negatively correlated."
   ]
  }
 ],
 "metadata": {
  "kernelspec": {
   "display_name": "Python 3 (ipykernel)",
   "language": "python",
   "name": "python3"
  },
  "language_info": {
   "codemirror_mode": {
    "name": "ipython",
    "version": 3
   },
   "file_extension": ".py",
   "mimetype": "text/x-python",
   "name": "python",
   "nbconvert_exporter": "python",
   "pygments_lexer": "ipython3",
   "version": "3.9.13"
  }
 },
 "nbformat": 4,
 "nbformat_minor": 1
}
