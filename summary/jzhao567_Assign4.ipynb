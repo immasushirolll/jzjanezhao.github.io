{
 "cells": [
  {
   "cell_type": "markdown",
   "metadata": {
    "collapsed": true
   },
   "source": [
    "# Assignment 4: Permutation test 1\n",
    "## Learning Outcomes\n",
    "By completing this assignment, you will be able to implement and use randomization tests to determine whether a specific effect is statistically significant. Randomization tests are a highly universal and powerful way to do this, and form an essential part of the toolkit of any Data Scientist. \n",
    "\n",
    "## Problem Description\n",
    "An increasingly common statistical tool for determining whether a difference is significant is the randomization or permutation test. A randomization test builds - rather than assumes – a sampling distribution of the test statistics. This is achieved by exchanging or permuting variables which are “exchangeable” under the Null-hypothesis. A randomization test gives a simple way to compute the sampling distribution for any test statistic under the null hypothesis that the dependent variable is statistically not dependent on the shuffled variable. \n",
    "In this assignment, we continue with the income dataset from week 1 and 2. This week your main task is to determine whether the difference in proportion for female vs. male directors to direct action movies is significant. \n",
    "You are allowed to use standard numpy and pandas functions such as mean, groupby, shuffle. But you are not allowed to use a permutation functions that have been already been designed. Numeric calculations in python that are printed should be rounded to 6 decimal places. \n",
    "\n",
    "Methods that you may find beneficial. \n",
    "Pandas: crosstab, iloc. Numpy: random.shuffle, reset_index, matplotlib: hist, axvline \n",
    "\n",
    "## Tbe dataset \n",
    "As a data scientist for a Hollywood law firm, your task is to provide evidence for the claim that there is gender discrimination in the movie industry. You are provided with a summary of the last 250 movies, and the gender and income of the director. The dataset also includes a number of other variables\n",
    "- North American box office revenue (boxoff)\n",
    "- Production cost of the movie (prodcost)\n",
    "- Income of the director (dirIncome in millions)\n",
    "- Gender of the director (dirGender) \n",
    "- Year of release (year)\n",
    "- Month of release (month) \n",
    "- Movie genre (genre): Action, Comedy \n",
    "- Number of theatres (numTheatrs)\n",
    "\n",
    "\n",
    "## Preliminaries \n",
    "Import pandas, numpy, matplotlib, and load the dataset file"
   ]
  },
  {
   "cell_type": "code",
   "execution_count": 3,
   "metadata": {},
   "outputs": [],
   "source": [
    "# import pandas, numpy, matplotlib\n",
    "import pandas as pd\n",
    "import numpy as np\n",
    "import scipy as ss\n",
    "import matplotlib.pyplot as plt \n",
    "import seaborn as sns\n",
    "import matplotlib\n",
    "matplotlib.use('TkAgg')\n",
    "%matplotlib inline\n",
    "\n",
    "# load dataset file\n",
    "df = pd.read_csv(\"movieDataset.csv\")"
   ]
  },
  {
   "cell_type": "markdown",
   "metadata": {},
   "source": [
    "## TASK 1: Defining the test statistics (40pts)\n",
    "### Question 1  - Explore the gender imbalance across movie genres (10pts)\n",
    "As you did in Assignment 02, create a table that displays the number of movies per genre and director gender. Make a stacked barplot that best let's you see what proprtion of directors were female for each movie genre.   Remember x-, y-axis labels and caption. Written answer: Which movie genre has the highest proportion of female directors? \n",
    "\n",
    "*Hint: Since this is a new dataset for you, it is excellent practice to explore the dataset as you did in Assignment number 2*"
   ]
  },
  {
   "cell_type": "code",
   "execution_count": 4,
   "metadata": {},
   "outputs": [
    {
     "data": {
      "text/html": [
       "<div>\n",
       "<style scoped>\n",
       "    .dataframe tbody tr th:only-of-type {\n",
       "        vertical-align: middle;\n",
       "    }\n",
       "\n",
       "    .dataframe tbody tr th {\n",
       "        vertical-align: top;\n",
       "    }\n",
       "\n",
       "    .dataframe thead th {\n",
       "        text-align: right;\n",
       "    }\n",
       "</style>\n",
       "<table border=\"1\" class=\"dataframe\">\n",
       "  <thead>\n",
       "    <tr style=\"text-align: right;\">\n",
       "      <th>dirGender</th>\n",
       "      <th>female</th>\n",
       "      <th>male</th>\n",
       "    </tr>\n",
       "    <tr>\n",
       "      <th>genre</th>\n",
       "      <th></th>\n",
       "      <th></th>\n",
       "    </tr>\n",
       "  </thead>\n",
       "  <tbody>\n",
       "    <tr>\n",
       "      <th>action</th>\n",
       "      <td>9</td>\n",
       "      <td>48</td>\n",
       "    </tr>\n",
       "    <tr>\n",
       "      <th>adventure</th>\n",
       "      <td>6</td>\n",
       "      <td>58</td>\n",
       "    </tr>\n",
       "    <tr>\n",
       "      <th>comedy</th>\n",
       "      <td>13</td>\n",
       "      <td>35</td>\n",
       "    </tr>\n",
       "    <tr>\n",
       "      <th>drama</th>\n",
       "      <td>5</td>\n",
       "      <td>31</td>\n",
       "    </tr>\n",
       "    <tr>\n",
       "      <th>other</th>\n",
       "      <td>4</td>\n",
       "      <td>41</td>\n",
       "    </tr>\n",
       "  </tbody>\n",
       "</table>\n",
       "</div>"
      ],
      "text/plain": [
       "dirGender  female  male\n",
       "genre                  \n",
       "action          9    48\n",
       "adventure       6    58\n",
       "comedy         13    35\n",
       "drama           5    31\n",
       "other           4    41"
      ]
     },
     "metadata": {},
     "output_type": "display_data"
    },
    {
     "data": {
      "image/png": "[encoded data removed]",
      "text/plain": [
       "<Figure size 640x480 with 1 Axes>"
      ]
     },
     "metadata": {},
     "output_type": "display_data"
    }
   ],
   "source": [
    "# table displaying number of movies per genre and director gender\n",
    "table =  pd.crosstab(df[\"genre\"], df[\"dirGender\"])\n",
    "display(table)\n",
    "\n",
    "# stacked barplot\n",
    "table.plot(kind = \"bar\", stacked = True, )\n",
    "plt.ylabel(\"Count\")\n",
    "plt.show()"
   ]
  },
  {
   "cell_type": "markdown",
   "metadata": {},
   "source": [
    "Figure 1. Proportion of female directors by movie genre in a barplot.\n",
    "\n",
    "The comedy genre has the highest proportion of female directors."
   ]
  },
  {
   "cell_type": "markdown",
   "metadata": {},
   "source": [
    "### Question 2 - Create contingency table of comedy (yes/no) by director gender (5pts)\n",
    "Generate and display a cross-tabulation table of the 2x2 proportions of directorGender vs. whether the movie is a comedy or not (all other genres should be combined into non-comedy movies).  "
   ]
  },
  {
   "cell_type": "code",
   "execution_count": 5,
   "metadata": {
    "scrolled": true
   },
   "outputs": [
    {
     "data": {
      "text/html": [
       "<div>\n",
       "<style scoped>\n",
       "    .dataframe tbody tr th:only-of-type {\n",
       "        vertical-align: middle;\n",
       "    }\n",
       "\n",
       "    .dataframe tbody tr th {\n",
       "        vertical-align: top;\n",
       "    }\n",
       "\n",
       "    .dataframe thead th {\n",
       "        text-align: right;\n",
       "    }\n",
       "</style>\n",
       "<table border=\"1\" class=\"dataframe\">\n",
       "  <thead>\n",
       "    <tr style=\"text-align: right;\">\n",
       "      <th>dirGender</th>\n",
       "      <th>female</th>\n",
       "      <th>male</th>\n",
       "      <th>All</th>\n",
       "    </tr>\n",
       "    <tr>\n",
       "      <th>genre</th>\n",
       "      <th></th>\n",
       "      <th></th>\n",
       "      <th></th>\n",
       "    </tr>\n",
       "  </thead>\n",
       "  <tbody>\n",
       "    <tr>\n",
       "      <th>False</th>\n",
       "      <td>24</td>\n",
       "      <td>178</td>\n",
       "      <td>202</td>\n",
       "    </tr>\n",
       "    <tr>\n",
       "      <th>True</th>\n",
       "      <td>13</td>\n",
       "      <td>35</td>\n",
       "      <td>48</td>\n",
       "    </tr>\n",
       "    <tr>\n",
       "      <th>All</th>\n",
       "      <td>37</td>\n",
       "      <td>213</td>\n",
       "      <td>250</td>\n",
       "    </tr>\n",
       "  </tbody>\n",
       "</table>\n",
       "</div>"
      ],
      "text/plain": [
       "dirGender  female  male  All\n",
       "genre                       \n",
       "False          24   178  202\n",
       "True           13    35   48\n",
       "All            37   213  250"
      ]
     },
     "execution_count": 5,
     "metadata": {},
     "output_type": "execute_result"
    }
   ],
   "source": [
    "table2 = pd.crosstab(df[\"genre\"] == \"comedy\", df[\"dirGender\"], margins = True)\n",
    "table2"
   ]
  },
  {
   "cell_type": "markdown",
   "metadata": {},
   "source": [
    "### Question 2 - Calculate p(comedy|female)-p(comedy|male) (15pts)\n",
    "Calculate and report the probability that the movie is a comedy given that the director Gender is female, p(comedy|female), the probability of the movie is a comedy given that the director Gender is male, p(comedy|male), as well as the difference between these two numbers, p(comedy|female)- p(comedy|male) (for help, see solution to homework 2)."
   ]
  },
  {
   "cell_type": "code",
   "execution_count": 6,
   "metadata": {},
   "outputs": [
    {
     "data": {
      "text/plain": [
       "0.35135135135135137"
      ]
     },
     "execution_count": 6,
     "metadata": {},
     "output_type": "execute_result"
    }
   ],
   "source": [
    "pComFem = table2[\"female\"][True]/table2[\"female\"][\"All\"]\n",
    "pComFem"
   ]
  },
  {
   "cell_type": "code",
   "execution_count": 7,
   "metadata": {},
   "outputs": [
    {
     "data": {
      "text/plain": [
       "0.1643192488262911"
      ]
     },
     "execution_count": 7,
     "metadata": {},
     "output_type": "execute_result"
    }
   ],
   "source": [
    "pComMale = table2[\"male\"][True]/table2[\"male\"][\"All\"]\n",
    "pComMale"
   ]
  },
  {
   "cell_type": "code",
   "execution_count": 8,
   "metadata": {},
   "outputs": [
    {
     "data": {
      "text/plain": [
       "0.18703210252506028"
      ]
     },
     "execution_count": 8,
     "metadata": {},
     "output_type": "execute_result"
    }
   ],
   "source": [
    "diff = pComFem - pComMale\n",
    "diff"
   ]
  },
  {
   "cell_type": "markdown",
   "metadata": {},
   "source": [
    "### Question 3 - Define a function that calculates this difference in probability (10pts)\n",
    "Write a function (e.g., https://www.tutorialspoint.com/python/python_functions.htm) that takes the data frame as an input and returns the difference on conditional probabilities (as calculated in question 2). \n",
    "Test the function by calling it with your data and report the difference in probability \n",
    "This difference is your test statistics for the coming permutation test."
   ]
  },
  {
   "cell_type": "code",
   "execution_count": 9,
   "metadata": {},
   "outputs": [],
   "source": [
    "def probDiff(data = df):\n",
    "    \n",
    "    # creates contingency table for genre (comedy = True) by gender\n",
    "    ctab = pd.crosstab(data[\"genre\"] == \"comedy\", data[\"dirGender\"], margins = True)\n",
    "    \n",
    "    # calculates conditional probabilities for p(comedy|female) and p(comedy|male) \n",
    "    pComFem = ctab[\"female\"][True]/ctab[\"female\"][\"All\"]\n",
    "    pComMale = ctab[\"male\"][True]/ctab[\"male\"][\"All\"]\n",
    "    \n",
    "    # difference between conditional probabilities\n",
    "    diffCP = pComFem - pComMale\n",
    "    return diffCP"
   ]
  },
  {
   "cell_type": "code",
   "execution_count": 10,
   "metadata": {},
   "outputs": [
    {
     "name": "stdout",
     "output_type": "stream",
     "text": [
      "the difference in conditional probabilities is 0.18703210252506028\n"
     ]
    }
   ],
   "source": [
    "x = probDiff(data = df)\n",
    "print(f\"the difference in conditional probabilities is {x}\")"
   ]
  },
  {
   "cell_type": "markdown",
   "metadata": {},
   "source": [
    "## Task 2: Perform a permutation test (60pts)\n",
    "### Question 1 (10pts)\n",
    "Written answer: We want to test the hypothesis that female directors are more likely than male directors to conduct a comedy. Under this hypothesis the p(comedy|female) should be higher than p(comedy|male). What is the Null-hypothesis we need to consider? "
   ]
  },
  {
   "cell_type": "markdown",
   "metadata": {},
   "source": [
    "Null: P(comedy|female) is not significantly greater than P(comedy|female), or, the difference between the conditional probabilities (P(comedy|female) = P(comedy|male)) is not significantly greater than 0, or, female directors are not more likely than male directors to conduct a comedy."
   ]
  },
  {
   "cell_type": "markdown",
   "metadata": {},
   "source": [
    "### Question 2 (40pts)\n",
    "Perform a permutation test. Under the Null-hypothesis the director gender is exchangeable. \n",
    "\n",
    "First, write a function that takes the data frame as an input and then randomly permutes the a specific columns that data frame (see lab for hints).\n",
    "\n",
    "Then write a function ``permutation_test`` that takes a data frame as an input and the loops ``numIter`` times. Every iteration of the  the loop it should shuffle the dirGender column of the data and then calls the function written for Task1, Q3 to get the test statistic. Each iteration, the test statistic should  be stored in a list.  \n",
    "\n",
    "After building up the numpy array of test statistics, the function should plot a histogram of the test statistics and mark the value of the empirical test statistics by a vertical line (see https://matplotlib.org/api/_as_gen/matplotlib.axes.Axes.axvline.html). Finally, it should report the p-value. \n",
    "\n",
    "For Pseudo code see lecture. Start with 500 iterations to test your code – for the final result, use 5000 iterations."
   ]
  },
  {
   "cell_type": "code",
   "execution_count": 19,
   "metadata": {},
   "outputs": [],
   "source": [
    "# function that randomly permutes (shuffles) specific columns of data frame\n",
    "def shuffle(data):\n",
    "    # create array to represent indices\n",
    "    inds = np.arange(len(data.index))\n",
    "        \n",
    "    # shuffle indices\n",
    "    np.random.shuffle(inds)\n",
    "        \n",
    "    # shuffle exchangeable variable (gender)\n",
    "    tmp = data[\"dirGender\"].iloc[inds]\n",
    "       \n",
    "    # reorder shuffled indices\n",
    "    tmp = tmp.reset_index(drop = True)\n",
    "        \n",
    "    # put shuffled exchangeable variable back into copy of dataframe\n",
    "    dfcopy[\"dirGender\"] = tmp\n",
    "    # dfcopy is the shuffled version\n",
    "\n",
    "# randomization test\n",
    "def permutation_test(data, numIter = 5000):\n",
    "    # calculate test statistic (difference in conditional probability) from observed data using probDiff function\n",
    "    emp_testStat = probDiff(data = df)\n",
    "    \n",
    "    # initialize list to store test statistics\n",
    "    test_stats = []\n",
    "    \n",
    "    # shuffles data and adds test statistic to list for numIter amount of times\n",
    "    for i in range(numIter):\n",
    "        # make copy of df and shuffle the copy using shuffle function\n",
    "        shuffle(data = df)\n",
    "    \n",
    "        # call function to calculate difference in probabilities and store in x\n",
    "        # x is storing the difference in conditional probabilities\n",
    "        x = probDiff(data = dfcopy)\n",
    "        \n",
    "        # add difference in probabilities to list\n",
    "        test_stats.append(x)\n",
    "\n",
    "    # create histogram\n",
    "    plt.hist(test_stats)\n",
    "    plt.axvline(x = emp_testStat, color = \"r\")   # note: x is a parameter, it's referring to where the line should be drawn\n",
    "    plt.show()\n",
    "    \n",
    "    # calculate p-value\n",
    "    ## store numbers more than or equal to the observed test statistic\n",
    "    bool_emp_testStat = test_stats >= emp_testStat\n",
    "    ## p-value = (number of numbers >= emp_testStat)/all samples\n",
    "    p_value = np.sum(bool_emp_testStat)/numIter\n",
    "    print(\"p-values is\", p_value)"
   ]
  },
  {
   "cell_type": "code",
   "execution_count": 20,
   "metadata": {},
   "outputs": [
    {
     "ename": "NameError",
     "evalue": "name 'dfcopy' is not defined",
     "output_type": "error",
     "traceback": [
      "\u001b[1;31m---------------------------------------------------------------------------\u001b[0m",
      "\u001b[1;31mNameError\u001b[0m                                 Traceback (most recent call last)",
      "\u001b[1;32m~\\AppData\\Local\\Temp\\ipykernel_7500\\1170330718.py\u001b[0m in \u001b[0;36m<module>\u001b[1;34m\u001b[0m\n\u001b[1;32m----> 1\u001b[1;33m \u001b[0mpermutation_test\u001b[0m\u001b[1;33m(\u001b[0m\u001b[0mdata\u001b[0m \u001b[1;33m=\u001b[0m \u001b[0mdf\u001b[0m\u001b[1;33m,\u001b[0m \u001b[0mnumIter\u001b[0m\u001b[1;33m=\u001b[0m \u001b[1;36m500\u001b[0m\u001b[1;33m)\u001b[0m\u001b[1;33m\u001b[0m\u001b[1;33m\u001b[0m\u001b[0m\n\u001b[0m",
      "\u001b[1;32m~\\AppData\\Local\\Temp\\ipykernel_7500\\4192657224.py\u001b[0m in \u001b[0;36mpermutation_test\u001b[1;34m(data, numIter)\u001b[0m\n\u001b[0;32m     33\u001b[0m         \u001b[1;31m# call function to calculate difference in probabilities and store in x\u001b[0m\u001b[1;33m\u001b[0m\u001b[1;33m\u001b[0m\u001b[0m\n\u001b[0;32m     34\u001b[0m         \u001b[1;31m# x is storing the difference in conditional probabilities\u001b[0m\u001b[1;33m\u001b[0m\u001b[1;33m\u001b[0m\u001b[0m\n\u001b[1;32m---> 35\u001b[1;33m         \u001b[0mx\u001b[0m \u001b[1;33m=\u001b[0m \u001b[0mprobDiff\u001b[0m\u001b[1;33m(\u001b[0m\u001b[0mdata\u001b[0m \u001b[1;33m=\u001b[0m \u001b[0mdfcopy\u001b[0m\u001b[1;33m)\u001b[0m\u001b[1;33m\u001b[0m\u001b[1;33m\u001b[0m\u001b[0m\n\u001b[0m\u001b[0;32m     36\u001b[0m \u001b[1;33m\u001b[0m\u001b[0m\n\u001b[0;32m     37\u001b[0m         \u001b[1;31m# add difference in probabilities to list\u001b[0m\u001b[1;33m\u001b[0m\u001b[1;33m\u001b[0m\u001b[0m\n",
      "\u001b[1;31mNameError\u001b[0m: name 'dfcopy' is not defined"
     ]
    }
   ],
   "source": [
    "permutation_test(data = df, numIter= 500)"
   ]
  },
  {
   "cell_type": "markdown",
   "metadata": {},
   "source": [
    "### Question 3 (10pts)\n",
    "Written response: What do you conclude from this result?\n"
   ]
  },
  {
   "cell_type": "markdown",
   "metadata": {},
   "source": [
    "Assuming a significance level of 0.05, the p-value 0.0076 is very small and considered highly significant. Thus, there is evidence against the null hypothesis, and it should be rejected. Therefore, female directors are more likely than male directors to conduct a comedy."
   ]
  }
 ],
 "metadata": {
  "kernelspec": {
   "display_name": "Python 3 (ipykernel)",
   "language": "python",
   "name": "python3"
  },
  "language_info": {
   "codemirror_mode": {
    "name": "ipython",
    "version": 3
   },
   "file_extension": ".py",
   "mimetype": "text/x-python",
   "name": "python",
   "nbconvert_exporter": "python",
   "pygments_lexer": "ipython3",
   "version": "3.9.13"
  },
  "vscode": {
   "interpreter": {
    "hash": "61143bbfde8c498eb623125e3842ac0cb52cf49f235d30b5cbd67890360fdf19"
   }
  }
 },
 "nbformat": 4,
 "nbformat_minor": 2
}
