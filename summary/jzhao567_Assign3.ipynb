{
 "cells": [
  {
   "cell_type": "markdown",
   "metadata": {
    "collapsed": true
   },
   "source": [
    "# Assignment 3: Bootstrap, confidence intervals & standard errors\n",
    "\n",
    "## Learning Outcomes:\n",
    "In this homework we will look at Estimates, Bootstrap, Confidence intervals, and Standard error.\n",
    "## Dataset \n",
    "The data set run10sample.csv contains data from random sample of 25 runner of the 16923 competitor in the 2012 Cherry blossom run (cherryblossom.org). The variables in the file are: \n",
    "\n",
    "- Place:  Finishing position. Separate positions are provided for each gender.\n",
    "- time: The total run time (in min) \n",
    "- Pace: The listed pace (/mile) for each runner.\n",
    "- Age: Age.\n",
    "- Gender: Gender.\n",
    "- Location: Hometown city. \n",
    "- State: Hometown state \n",
    "- divPlace: Age Division place, also broken up by gender.\n",
    "- divTot: Total number of people in the division (again, also split by gender).\n",
    "\n",
    "The data set run10.csv contains the data from all 16923 competitors, so you can also analyze the whole population. \n",
    "\n",
    "## Preliminaries\n",
    "Set up the environment by importing pandas, numpy, scipy, and matplotlib. "
   ]
  },
  {
   "cell_type": "code",
   "execution_count": 225,
   "metadata": {},
   "outputs": [],
   "source": [
    "import pandas as pd\n",
    "import numpy as np\n",
    "import scipy as ss\n",
    "import matplotlib.pyplot as plt \n",
    "import seaborn as sns"
   ]
  },
  {
   "cell_type": "markdown",
   "metadata": {},
   "source": [
    "On some installations, you may still have to configure your notebook such that plots are shown inline (see Assignment 2). "
   ]
  },
  {
   "cell_type": "code",
   "execution_count": 226,
   "metadata": {},
   "outputs": [],
   "source": [
    "import matplotlib\n",
    "matplotlib.use('TkAgg')\n",
    "%matplotlib inline\n"
   ]
  },
  {
   "cell_type": "markdown",
   "metadata": {},
   "source": [
    "## Task 1: Analyzing a sample from the  population (12pt)\n",
    "In this task you will use the sample of runners that you got. \n",
    "### Question 1 (4pt)\n",
    "What was the mean finishing time in the random sample?"
   ]
  },
  {
   "cell_type": "code",
   "execution_count": 227,
   "metadata": {},
   "outputs": [
    {
     "data": {
      "text/plain": [
       "98.1504"
      ]
     },
     "execution_count": 227,
     "metadata": {},
     "output_type": "execute_result"
    }
   ],
   "source": [
    "# load in sample data\n",
    "df = pd.read_csv(\"run10sample.csv\")\n",
    "df.head\n",
    "\n",
    "# sample mean time\n",
    "np.mean(df[\"time\"])"
   ]
  },
  {
   "cell_type": "markdown",
   "metadata": {},
   "source": [
    "### Question 2 (4pt)\n",
    "What is the number of men and women in your sample (tip: use groupby and size or count)?"
   ]
  },
  {
   "cell_type": "code",
   "execution_count": 228,
   "metadata": {},
   "outputs": [
    {
     "data": {
      "text/plain": [
       "gender\n",
       "F    14\n",
       "M    11\n",
       "dtype: int64"
      ]
     },
     "execution_count": 228,
     "metadata": {},
     "output_type": "execute_result"
    }
   ],
   "source": [
    "df.groupby(df[\"gender\"]).size()\n"
   ]
  },
  {
   "cell_type": "markdown",
   "metadata": {},
   "source": [
    "### Question 3 (4pt)\n",
    "What was the mean finishing time when you split the sample up by gender (see Homework 2, task 4)? "
   ]
  },
  {
   "cell_type": "code",
   "execution_count": 229,
   "metadata": {},
   "outputs": [
    {
     "data": {
      "text/plain": [
       "gender\n",
       "F    103.496429\n",
       "M     91.346364\n",
       "Name: time, dtype: float64"
      ]
     },
     "execution_count": 229,
     "metadata": {},
     "output_type": "execute_result"
    }
   ],
   "source": [
    "df[\"time\"].groupby(df[\"gender\"]).mean()"
   ]
  },
  {
   "cell_type": "markdown",
   "metadata": {},
   "source": [
    "## Task 2: Resampling from the population (47 Points)\n",
    "In this task you will have access to the data from the whole population to determine how much confidence you should have in the numbers you obained in Task 1.The dataset run10.csv contain the total population of 16923 competitors in the 2012 Cherry blossom run (cherryblossom.org). Having the whole population gives us the opportunity to check how good our sample estimate is. \n",
    "\n",
    "### Question 1 (10pt)\n",
    "\n",
    "What is the mean finishing time in the whole population of runners? Written answer: How much does it differ from the mean finishing time of the sample analyzed in Task 1? Can this difference be explained by the fact that our sample differs from the population in terms of gender distribution? How about age? Knowing these differences, how could we have improved our estimate?"
   ]
  },
  {
   "cell_type": "code",
   "execution_count": 230,
   "metadata": {},
   "outputs": [
    {
     "data": {
      "text/plain": [
       "<bound method NDFrame.head of        place    time    pace   age gender             location state  \\\n",
       "0       4494   92.25   9.225  38.0      M  Chesapeake Beach MD    MD   \n",
       "1       6298  106.35  10.635  33.0      M        Washington DC    DC   \n",
       "2       2502   89.33   8.933  55.0      F            McLean VA    VA   \n",
       "3       8176  113.50  11.350  24.0      F        Alexandria VA    VA   \n",
       "4       3413   86.52   8.652  54.0      M     San Francisco CA    CA   \n",
       "...      ...     ...     ...   ...    ...                  ...   ...   \n",
       "16918    329   64.45   6.445  32.0      M         Arlington VA    VA   \n",
       "16919   4475   96.83   9.683  36.0      F          Carlisle PA    PA   \n",
       "16920   6243  103.30  10.330  30.0      F        Washington DC    DC   \n",
       "16921   9133  122.87  12.287  37.0      F            Reston VA    VA   \n",
       "16922   3462   93.30   9.330  27.0      F        Washington DC    DC   \n",
       "\n",
       "       divPlace  divTot  \n",
       "0         690.0  1093.0  \n",
       "1        1322.0  1490.0  \n",
       "2          37.0   236.0  \n",
       "3         878.0   974.0  \n",
       "4         213.0   483.0  \n",
       "...         ...     ...  \n",
       "16918      92.0  1490.0  \n",
       "16919     595.0  1367.0  \n",
       "16920    1398.0  2228.0  \n",
       "16921    1269.0  1367.0  \n",
       "16922    1079.0  2782.0  \n",
       "\n",
       "[16923 rows x 9 columns]>"
      ]
     },
     "execution_count": 230,
     "metadata": {},
     "output_type": "execute_result"
    }
   ],
   "source": [
    "# load in population data\n",
    "df2 = pd.read_csv(\"run10.csv\")\n",
    "df2.head"
   ]
  },
  {
   "cell_type": "code",
   "execution_count": 231,
   "metadata": {},
   "outputs": [
    {
     "data": {
      "text/plain": [
       "94.51597470897607"
      ]
     },
     "execution_count": 231,
     "metadata": {},
     "output_type": "execute_result"
    }
   ],
   "source": [
    "# population mean time\n",
    "np.mean(df2[\"time\"])"
   ]
  },
  {
   "cell_type": "code",
   "execution_count": 232,
   "metadata": {},
   "outputs": [
    {
     "data": {
      "text/plain": [
       "3.6344252910239305"
      ]
     },
     "execution_count": 232,
     "metadata": {},
     "output_type": "execute_result"
    }
   ],
   "source": [
    "# difference between sample and population means\n",
    "np.mean(df[\"time\"])-np.mean(df2[\"time\"])"
   ]
  },
  {
   "cell_type": "markdown",
   "metadata": {},
   "source": [
    "The sample mean finishing time is slightly greater than the population finishing time. Assuming a completely random sampling was made to acquire the sample data, the ratio of males to females in the sample should be similar enough to the population that it should be negligible, however it cannot be ruled out as a potential influencing factor without further statistical analysis. The collected sample may have included slightly more extreme units. That may have been caused by various factors including gender and age. Taking a larger sample is recommended as it would be closer to a sampling of the whole population and further mitigate other factors. Bootstrapping can also be conducted to help find a confidence interval to calculate the significance of the extent to which the sample varies from the population parameters."
   ]
  },
  {
   "cell_type": "markdown",
   "metadata": {},
   "source": [
    "### Question 2 (10pt)\n",
    "Write a function **bootstrap**, which takes a data series (data) as an input and then performs a bootstrap. The function should take numIter samples from the data (with replacement) of size N. It should then calculate the statistics defined in fcn for each iteration and record it in a numpy-array, which it should then return.\n",
    "\n",
    "Input arguments \n",
    "- data: data series to resample\n",
    "- N: Sample size for each iteration \n",
    "- fcn: function to apply to the sample to get the statistics\n",
    "- numIter: Number of resamples (should default to 1000) \n",
    "\n",
    "Output argument: \n",
    "- Numpy array of size numIter that contains the estimates of the statistics (i.e. the bootstrap sample)\n"
   ]
  },
  {
   "cell_type": "code",
   "execution_count": 233,
   "metadata": {},
   "outputs": [],
   "source": [
    "# bootstrap function\n",
    "def bootstrap(data, N, fcn, numIter = 1000):\n",
    "    \n",
    "    # initialize numpy array\n",
    "    boot_stats = np.zeros(numIter)\n",
    "    np.random.seed(0)\n",
    "    \n",
    "    # take sample of size N and calculate statistic on sample, repeat numIter amount of times\n",
    "    for i in range(numIter):\n",
    "        d = np.random.choice(data, size = N, replace = True)\n",
    "        boot_stats[i] = fcn(d)\n",
    "    \n",
    "    # returns sample statistics\n",
    "    return boot_stats\n",
    "\n",
    "# test bootstrap function\n",
    "# values = bootstrap(data = df2[\"time\"], N = 20, fcn = np.mean)\n",
    "# len(values) # so each point is a mean of a N = 25 sample, there's 1000 sample means\n",
    "# values"
   ]
  },
  {
   "cell_type": "markdown",
   "metadata": {},
   "source": [
    "### Question 3 (8pt)\n",
    "Call the resample (bootstrap) function from Question 2 with time from the whole population as the data series, mean as the statistic, and a sample size of 25. Plot a histogram of the samples – make sure your x-axis and y-axis are labeled and a caption added. Report the mean and the standard deviation of the resampled estimates. "
   ]
  },
  {
   "cell_type": "code",
   "execution_count": 234,
   "metadata": {},
   "outputs": [
    {
     "name": "stderr",
     "output_type": "stream",
     "text": [
      "C:\\1-School\\Year3\\DS\\anaconda\\lib\\site-packages\\seaborn\\distributions.py:2619: FutureWarning: `distplot` is a deprecated function and will be removed in a future version. Please adapt your code to use either `displot` (a figure-level function with similar flexibility) or `histplot` (an axes-level function for histograms).\n",
      "  warnings.warn(msg, FutureWarning)\n"
     ]
    },
    {
     "data": {
      "image/png": "[encoded data removed]",
      "text/plain": [
       "<Figure size 640x480 with 1 Axes>"
      ]
     },
     "metadata": {},
     "output_type": "display_data"
    },
    {
     "name": "stdout",
     "output_type": "stream",
     "text": [
      "The mean is 94.538\n",
      "The standard deviation is 3.071\n"
     ]
    }
   ],
   "source": [
    "# bootstrap, N = 25\n",
    "values_25 = bootstrap(data = df2[\"time\"], N = 25, fcn = np.mean)\n",
    "\n",
    "# histogram\n",
    "graph = sns.distplot(values_25)\n",
    "graph.set(xlabel = \"time\")\n",
    "\n",
    "plt.show()\n",
    "\n",
    "# mean and sd of resampled estimates, respectively (samples mean)\n",
    "print(\"The mean is %.3f\" %np.mean(values_25))\n",
    "print(\"The standard deviation is %.3f\" %np.std(values_25))"
   ]
  },
  {
   "cell_type": "markdown",
   "metadata": {},
   "source": [
    "Figure 1. Distribution of time sample means from bootstrap."
   ]
  },
  {
   "cell_type": "markdown",
   "metadata": {},
   "source": [
    "### Question 4 (8pt)\n",
    "Call your bootstrap function again as in question 3, this time increasing the sample size first to 50, and then to 100. Which of the values (mean, standard deviation) of the means distribution changes most and why? "
   ]
  },
  {
   "cell_type": "code",
   "execution_count": 235,
   "metadata": {},
   "outputs": [
    {
     "name": "stdout",
     "output_type": "stream",
     "text": [
      "The mean is 94.487 for N = 50\n",
      "The standard deviation is 2.287 for N = 50\n",
      "The mean is 94.479 for N = 100\n",
      "The standard deviation is 1.634 for N = 100\n"
     ]
    }
   ],
   "source": [
    "# sample size N = 50\n",
    "values_50 = bootstrap(data = df2[\"time\"], N = 50, fcn = np.mean)\n",
    "\n",
    "# mean and sd of resampled estimates, respectively (samples mean)\n",
    "print(\"The mean is %.3f for N = 50\" %np.mean(values_50))\n",
    "print(\"The standard deviation is %.3f for N = 50\" %np.std(values_50))\n",
    "\n",
    "# sample size N = 100\n",
    "values_100 = bootstrap(data = df2[\"time\"], N = 100, fcn = np.mean)\n",
    "\n",
    "# mean and sd of resampled estimates, respectively (samples mean)\n",
    "print(\"The mean is %.3f for N = 100\" %np.mean(values_100))\n",
    "print(\"The standard deviation is %.3f for N = 100\" %np.std(values_100))"
   ]
  },
  {
   "cell_type": "markdown",
   "metadata": {},
   "source": [
    "Standard deviation decreased as sample size increased. This is because of the Central Limit Theorem, and as more samples are taken, the closer to the population mean the samples mean gets. With more points between the same range, the distance between each point decreases, and so standard deviation decreases. The increase in sample size also decreases standard error, as per the formula for SE = delta/sqrt(N), where delta = standard deviation, N = sample size, which makes sense since the sample size is closer to the population size."
   ]
  },
  {
   "cell_type": "markdown",
   "metadata": {
    "collapsed": true
   },
   "source": [
    "### Question 5 (6pt)\n",
    "Calculate the predicted standard error of the mean from the population standard deviation and the same size for  N=25, N=50, and N=100. Write a line of code for each sample size that prints the answer in a full sentence. Written answer: Do these match up with the SEMs that you got from question 4? "
   ]
  },
  {
   "cell_type": "code",
   "execution_count": 236,
   "metadata": {},
   "outputs": [
    {
     "name": "stdout",
     "output_type": "stream",
     "text": [
      "Predicted standard error of the mean for N=25 is 3.184\n",
      "Predicted standard error of the mean for N=25 is 2.252\n",
      "Predicted standard error of the mean for N=25 is 1.592\n"
     ]
    }
   ],
   "source": [
    "# predicted SEM = population SD/N, N = 25\n",
    "se_25 = np.std(df2[\"time\"])/np.sqrt(25)\n",
    "print(\"Predicted standard error of the mean for N=25 is %.3f\" %se_25 )\n",
    "\n",
    "# predicted SEM = population SD/N, N = 50\n",
    "se_50 = np.std(df2[\"time\"])/np.sqrt(50)\n",
    "print(\"Predicted standard error of the mean for N=25 is %.3f\" %se_50 )\n",
    "\n",
    "# predicted SEM = population SD/N, N = 100\n",
    "se_100 = np.std(df2[\"time\"])/np.sqrt(100)\n",
    "print(\"Predicted standard error of the mean for N=25 is %.3f\" %se_100 )"
   ]
  },
  {
   "cell_type": "markdown",
   "metadata": {},
   "source": [
    "The trend of decreasing standard error with increasing sample size is consistent."
   ]
  },
  {
   "cell_type": "markdown",
   "metadata": {},
   "source": [
    "## Task 3: Calculating confidence intervals (24pt) \n",
    "### Question 1 (8pt)\n",
    "Write a function (confidenceInt) that constructs a confidence interval from a bootstrap sample using the percentile bootstrap method (see lecture). \t\n",
    "\n",
    "Input arguments \n",
    "- data: Sample of estimates – usually this is output from “bootstrap” (resample function from task 3 Q2)\n",
    "- prec: What Confidence interval in percent? 95= 95% confidence interval <br/>\n",
    "Output argument: \n",
    "- A list with 2 values: the lower and upper bound of the interval. \n",
    "\n",
    "Tip: Use np.percentile to get a specific percentile of the data. The lower bound of a 95% confidence interval is the (100-95)/2=2.5 percentile. "
   ]
  },
  {
   "cell_type": "code",
   "execution_count": 237,
   "metadata": {},
   "outputs": [],
   "source": [
    "def confidenceInt(data, prec):\n",
    "    # initialize list for confidecne interval\n",
    "    CI = []\n",
    "    \n",
    "    # percentile bootstrap method\n",
    "    lower = np.percentile(data, (100 - prec)/2)\n",
    "    upper = np.percentile(data, prec)\n",
    "    \n",
    "    # round to 3 decimals and add to list CI\n",
    "    CI.append(round(lower, 3))\n",
    "    CI.append(round(upper, 3))\n",
    "    \n",
    "    print(CI)"
   ]
  },
  {
   "cell_type": "markdown",
   "metadata": {},
   "source": [
    "### Question 2 (8pt)\n",
    "Determine the confidence 95% interval for the mean estimate of your sample of 25. Use your bootstrap function (resample from Task 3 Q2) above to generate 1000 artificial samples of 25. Then use your confidenceInt function to get the 95% confidence interval.  Report the interval. \n"
   ]
  },
  {
   "cell_type": "code",
   "execution_count": 238,
   "metadata": {},
   "outputs": [
    {
     "name": "stdout",
     "output_type": "stream",
     "text": [
      "[88.652, 99.683]\n"
     ]
    }
   ],
   "source": [
    "# bootstrap for N = 25\n",
    "values_25 = bootstrap(data = df2[\"time\"], N = 25, fcn = np.mean)\n",
    "\n",
    "# getting 95% confidence interval\n",
    "confidenceInt(data = values_25, prec = 95)"
   ]
  },
  {
   "cell_type": "markdown",
   "metadata": {},
   "source": [
    "### Question 3  (8pt)\n",
    "Repeat the plotting of the histogram from task 2.3 – but this time plot the lower and upper bound of the confidence interval as a vertical line – see plt.axvline. Make sure that the graph has x- and y-labels and a caption."
   ]
  },
  {
   "cell_type": "code",
   "execution_count": 239,
   "metadata": {},
   "outputs": [
    {
     "data": {
      "image/png": "[encoded data removed]",
      "text/plain": [
       "<Figure size 640x480 with 1 Axes>"
      ]
     },
     "metadata": {},
     "output_type": "display_data"
    }
   ],
   "source": [
    "# bootstrap for N = 25\n",
    "values_25 = bootstrap(data = df2[\"time\"], N = 25, fcn = np.mean)\n",
    "\n",
    "# plot histogram with 95% confidence interval and axes labels\n",
    "plt.hist(values_25)\n",
    "plt.axvline(x = np.percentile(values_25, q = 95), color = \"r\")\n",
    "plt.axvline(x = np.percentile(values_25, q = 5), color = \"r\")\n",
    "plt.xlabel(\"time\")\n",
    "plt.ylabel(\"Count\")\n",
    "\n",
    "plt.show()"
   ]
  },
  {
   "cell_type": "markdown",
   "metadata": {},
   "source": [
    "Figure 2. Distribution of time sample means from bootstrap with 95% confidence interval (lower bound = 88.652, upper bound = 99.683)."
   ]
  },
  {
   "cell_type": "markdown",
   "metadata": {},
   "source": [
    "## Task 4: Bootstraping from the sample (22pt)\n",
    "Now let's forget that you ever had the data from the whole population. Say, you only have your initial sample of 25 participants. How would you get an estimate of the confidence interval of the mean of the sample? \n",
    "### Question 1 (8pt)\n",
    "Load the sample stored in run10sample.csv. Now call the resample function with that time data, in each loop resampling 25 data points from 25 data points (with replacement!). You have now taken 1000 bootstrap samples. Report the mean of the bootstrap samples, the standard deviation of the the samples, and the 95% confidence interval."
   ]
  },
  {
   "cell_type": "code",
   "execution_count": 240,
   "metadata": {
    "scrolled": true
   },
   "outputs": [
    {
     "name": "stdout",
     "output_type": "stream",
     "text": [
      "The mean is 98.222\n",
      "The standard deviation is 2.756\n",
      "The 95% confidence interval is:\n",
      "[92.988, 102.668]\n"
     ]
    }
   ],
   "source": [
    "# load in sample data set\n",
    "df = pd.read_csv(\"run10sample.csv\")\n",
    "\n",
    "# resample df, N = 25, for mean time\n",
    "values = bootstrap(data = df[\"time\"], N = 25, fcn = np.mean)\n",
    "\n",
    "# mean, sd, and 95% confidence interval of 1000 bootstrap samples\n",
    "print(\"The mean is %.3f\" %np.mean(values))\n",
    "print(\"The standard deviation is %.3f\" %np.std(values))\n",
    "print(\"The 95% confidence interval is:\")\n",
    "confidenceInt(data = values, prec = 95)"
   ]
  },
  {
   "cell_type": "markdown",
   "metadata": {},
   "source": [
    "### Question 2 (8pt)\n",
    "Plot of the histogram of your bootstrap samples –plot the lower and upper bound of the confidence interval as a vertical line – see plt.axvline (see homework 3). Plot the true population mean (Task 2.1) as a red vertical line. Make sure that the graph has x- and y-labels and caption saying what the different lines mean. "
   ]
  },
  {
   "cell_type": "code",
   "execution_count": 241,
   "metadata": {},
   "outputs": [
    {
     "data": {
      "image/png": "[encoded data removed]",
      "text/plain": [
       "<Figure size 640x480 with 1 Axes>"
      ]
     },
     "metadata": {},
     "output_type": "display_data"
    }
   ],
   "source": [
    "# resample df, N = 25, for mean time\n",
    "values = bootstrap(data = df[\"time\"], N = 25, fcn = np.mean)\n",
    "\n",
    "# plot histogram with 95% confidence interval and axes labels\n",
    "plt.hist(values)\n",
    "plt.axvline(x = np.percentile(values, q = 95), color = \"r\")\n",
    "plt.axvline(x = np.percentile(values, q = 5), color = \"r\")\n",
    "plt.xlabel(\"time\")\n",
    "plt.ylabel(\"Count\")\n",
    "\n",
    "plt.show()"
   ]
  },
  {
   "cell_type": "markdown",
   "metadata": {},
   "source": [
    "Figure 3. Distribution of 1000 bootstrap samples means for time with 95% confidence interval (lower bound = 92.988, upper bound = 102.668)."
   ]
  },
  {
   "cell_type": "markdown",
   "metadata": {},
   "source": [
    "### Question 3: (6pt)\n",
    "Written answer: Does the 95% confidence interval include the true population mean? Does it include the mean value from last year’s cherry blossom run (101min)? Is there statistical evidence from your sample of N=25, that the race times have gotten faster from last year? "
   ]
  },
  {
   "cell_type": "markdown",
   "metadata": {},
   "source": [
    "The true population mean time (94.5 min) is within the 95% confidence interval. The mean value from last year's cherry blossom run (101 min) is also included in this interval. Therefore, there is evidence that this sample is a reliable estimate for the population mean, but there is no evidence that race times have gotten significantly faster from last year since it is within the confidence interval, and it has actually decreased to 98 min this year."
   ]
  }
 ],
 "metadata": {
  "kernelspec": {
   "display_name": "Python 3 (ipykernel)",
   "language": "python",
   "name": "python3"
  },
  "language_info": {
   "codemirror_mode": {
    "name": "ipython",
    "version": 3
   },
   "file_extension": ".py",
   "mimetype": "text/x-python",
   "name": "python",
   "nbconvert_exporter": "python",
   "pygments_lexer": "ipython3",
   "version": "3.9.13"
  },
  "vscode": {
   "interpreter": {
    "hash": "3d597f4c481aa0f25dceb95d2a0067e73c0966dcbd003d741d821a7208527ecf"
   }
  }
 },
 "nbformat": 4,
 "nbformat_minor": 2
}
