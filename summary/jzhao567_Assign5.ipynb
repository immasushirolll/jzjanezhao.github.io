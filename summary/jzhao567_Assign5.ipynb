{
 "cells": [
  {
   "cell_type": "markdown",
   "metadata": {},
   "source": [
    "# Assignment 5: Randomization test 2\n",
    "## Learning Outcomes\n",
    "We will continue our last homework on the use of randomization and Monte-Carlo simulation tests to determine whether a specific effect is statistically significant. Randomization and simulation tests are universal and powerful way to do this, and form an essential part of the toolkit of any Data Scientist. \n",
    "## Problem Description\n",
    "In Task 1 & 2, we continue with the movie dataset. The first two task build on the last homework and run randomization tests with two new test statistics. You should re-use the randomization test function that you wrote for the last homework – but the new modified version needs to be included in the submission. In Task 3 you are asked to program a simple monte-Carlo simulation test.  \n",
    "## Preliminaries\n",
    "Set up the environment by importing pandas, numpy, and matplotlib. Load the movie data set into a pandas data frame. **IMPORTANT: Download and used the new movie data set that comes with this assignment on OWL**. For older versions, you my need to configure your notebook such that plots are shown inline (see Assignment 2). "
   ]
  },
  {
   "cell_type": "code",
   "execution_count": 3,
   "metadata": {},
   "outputs": [],
   "source": [
    "import matplotlib\n",
    "import matplotlib.pyplot as plt \n",
    "import numpy as np\n",
    "import pandas as pd\n",
    "import scipy.stats as stats\n",
    "\n",
    "# Maybe necessary: \n",
    "matplotlib.use('TkAgg')\n",
    "%matplotlib inline\n",
    "\n",
    "D = pd.read_csv('movieDataset.csv')\n"
   ]
  },
  {
   "cell_type": "markdown",
   "metadata": {},
   "source": [
    "## TASK 1: Chi-square test of independence (40pts)\n",
    "To test whether two discrete variables interact with each other, you can perform the Chi-sqaure test. The Chi-square statistic measures the deviation of the observed cell counts in a contingency table to the expected counts (see lecture).  \n",
    "### Question 1: Null-hypothesis (5pts)\n",
    "We want to test the hypothesis that there is a systematic relationship between director Gender and film genre. Please formulate the corresponding Null-hypothesis and Alternative hypothesis, and spell out what they predict in terms of the observed and expected cell counts."
   ]
  },
  {
   "cell_type": "markdown",
   "metadata": {},
   "source": [
    "H0: director Gender and film genre are independent, genre does not vary by director gender, observed and expected cell counts will consistently be significantly similar.\n",
    "\n",
    "\n",
    "HA: director Gender and film genre are dependent, genre varies by director gender, observed and expected cell counts will not consistently be significantly similar."
   ]
  },
  {
   "cell_type": "markdown",
   "metadata": {},
   "source": [
    "### Question 2: Expected frequencies (10pts)\n",
    "From the table of the observed frequencies of genre / director Gender, generate a table that shows the expected frequencies if genre and gender were independent. The Marginal counts in the table should stay unchanged. "
   ]
  },
  {
   "cell_type": "code",
   "execution_count": 4,
   "metadata": {},
   "outputs": [
    {
     "data": {
      "text/html": [
       "<div>\n",
       "<style scoped>\n",
       "    .dataframe tbody tr th:only-of-type {\n",
       "        vertical-align: middle;\n",
       "    }\n",
       "\n",
       "    .dataframe tbody tr th {\n",
       "        vertical-align: top;\n",
       "    }\n",
       "\n",
       "    .dataframe thead th {\n",
       "        text-align: right;\n",
       "    }\n",
       "</style>\n",
       "<table border=\"1\" class=\"dataframe\">\n",
       "  <thead>\n",
       "    <tr style=\"text-align: right;\">\n",
       "      <th>dirGender</th>\n",
       "      <th>female</th>\n",
       "      <th>male</th>\n",
       "    </tr>\n",
       "    <tr>\n",
       "      <th>genre</th>\n",
       "      <th></th>\n",
       "      <th></th>\n",
       "    </tr>\n",
       "  </thead>\n",
       "  <tbody>\n",
       "    <tr>\n",
       "      <th>action</th>\n",
       "      <td>8.436</td>\n",
       "      <td>48.564</td>\n",
       "    </tr>\n",
       "    <tr>\n",
       "      <th>adventure</th>\n",
       "      <td>9.472</td>\n",
       "      <td>54.528</td>\n",
       "    </tr>\n",
       "    <tr>\n",
       "      <th>comedy</th>\n",
       "      <td>7.104</td>\n",
       "      <td>40.896</td>\n",
       "    </tr>\n",
       "    <tr>\n",
       "      <th>drama</th>\n",
       "      <td>5.328</td>\n",
       "      <td>30.672</td>\n",
       "    </tr>\n",
       "    <tr>\n",
       "      <th>other</th>\n",
       "      <td>6.660</td>\n",
       "      <td>38.340</td>\n",
       "    </tr>\n",
       "  </tbody>\n",
       "</table>\n",
       "</div>"
      ],
      "text/plain": [
       "dirGender  female    male\n",
       "genre                    \n",
       "action      8.436  48.564\n",
       "adventure   9.472  54.528\n",
       "comedy      7.104  40.896\n",
       "drama       5.328  30.672\n",
       "other       6.660  38.340"
      ]
     },
     "execution_count": 4,
     "metadata": {},
     "output_type": "execute_result"
    }
   ],
   "source": [
    "# contingency table showing observed frequencies of genre/dirGender\n",
    "observed_tab = pd.crosstab(D[\"genre\"], D[\"dirGender\"], margins = False)\n",
    "observed_array = np.array(observed_tab)         # convert to array\n",
    "[r, c] = observed_array.shape       # r, c, are dimensions of array, r = rows, c = columns\n",
    "\n",
    "# expected frequency table if genre and gender are independent\n",
    "## initialize expected_array to all 0s\n",
    "expected_array = np.zeros((r, c))       \n",
    "## Expected(A, B) = Marginal counts (A)*Marginal counts (B)/total\n",
    "tmp = 0     \n",
    "for i in range(r):\n",
    "    for j in range(c):\n",
    "        expected_array[i, j] = np.sum(observed_array[i, :])*np.sum(observed_array[:, j])/np.sum(observed_array)\n",
    "        tmp = tmp + (observed_array[i, j] - expected_array[i, j])**2/expected_array[i, j]\n",
    "chi_stat = np.sum(tmp)\n",
    "\n",
    "# convert into contingency table\n",
    "expected_tab = pd.DataFrame(expected_array)     # creates a dataframe\n",
    "expected_tab.columns = observed_tab.columns     # set columns to be same as observed_tab\n",
    "expected_tab.index = observed_tab.index         # set index to be same as observed_tab\n",
    "expected_tab"
   ]
  },
  {
   "cell_type": "markdown",
   "metadata": {},
   "source": [
    "### Question 3: Chi-square (10pts)\n",
    "Create a function that takes the data frame as input and calculates a statistics of the overall deviation between expected and observed frequencies: \n",
    "$χ^2 = \\sum_i(O_i-E_i)^2/E_i)$ \n",
    "\n",
    "Where $O_i$ is the observed frequency for cell $i$, $E_i$ is the expected frequency for cell $i$, assuming independence of gender and genre. The sum is to be taken over all 10 cells. This test-statistic is called the Chi-square test of independence.\n",
    "\n",
    "The function should take a data frame and return the Chi-square value. Make sure that the function performs all the required computations - it should work without you having to run the code from Question #2 first. \n",
    "\n",
    "Report the value of this statistic for the real data. \n",
    "\n",
    "Extra challenge: Make your code more flexible by not always using ``genre`` and ``dirGender`` to make the crosstab, but by providing the name of the row and column variable as an input (not required for full points).\n"
   ]
  },
  {
   "cell_type": "code",
   "execution_count": 5,
   "metadata": {},
   "outputs": [
    {
     "data": {
      "text/plain": [
       "8.552102881235571"
      ]
     },
     "execution_count": 5,
     "metadata": {},
     "output_type": "execute_result"
    }
   ],
   "source": [
    "# calculates overall deviation between expected and observed frequencies\n",
    "def chi2(data = D, row = \"genre\", col = \"dirGender\"):\n",
    "    # create expected frequency table\n",
    "    observed_tab = pd.crosstab(data[row], data[col], margins = False)    # contingency table showing observed frequencies of genre/dirGender\n",
    "\n",
    "    observed_array = np.array(observed_tab)     # convert to array\n",
    "    [r, c] = observed_array.shape   # r, c, are dimensions of array, r = rows, c = columns\n",
    "\n",
    "    expected_array = np.zeros((r, c))   # initialize expected_array to all 0s\n",
    "    \n",
    "    tmp = 0     \n",
    "    for i in range(r):\n",
    "        for j in range(c):\n",
    "            expected_array[i, j] = np.sum(observed_array[i, :])*np.sum(observed_array[:, j])/np.sum(observed_array)\n",
    "            tmp = tmp + (observed_array[i, j] - expected_array[i, j])**2/expected_array[i, j]\n",
    "    chi_stat = np.sum(tmp)\n",
    "    return chi_stat\n",
    "\n",
    "chi2()  \n"
   ]
  },
  {
   "cell_type": "markdown",
   "metadata": {},
   "source": [
    "### Question 4: Randomization with flexible input arguments (5pts)\n",
    "Rewrite the randomization function from the last homework, so it it becomes more versatile by adding additional input arguments that determines the behavior of the routine. \n",
    "\n",
    "- The first argument should still be a dataframe (as before)\n",
    "- The second input argument should be a function that computes the test statistics. All test-statistic functions are assumed to take the data frame as the first and only input. \n",
    "- The third input argument is the name of the dataframe column that is being shuffled. \n",
    "- An optional input argument: the number of iterations (default=500)\n",
    "- An optional input argument: the number of sides of the test (1 or 2; default = 1). If the test is two-sided, then count the number of cases where the absolute value of the test statistic (np.abolute) is larger or equal to the real test statistic.\n",
    "- An optional input argument: The number of bins for plotting the histogram \n"
   ]
  },
  {
   "cell_type": "code",
   "execution_count": 6,
   "metadata": {},
   "outputs": [],
   "source": [
    "def permutation_test(data = D, fcn = chi2, shuffle = \"dirGender\", numIter = 500, sides = 1):\n",
    "    \n",
    "    stat = np.zeros(numIter, dtype = \"float64\")     # initialize array that will store test stat\n",
    "    \n",
    "    # shuffle exchangeable variable\n",
    "    i = 0\n",
    "    for i in range(numIter):\n",
    "        \n",
    "        # shuffle exchangeable variable\n",
    "        tmpDf = data.copy()     # make copy of dataframe\n",
    "        sInd  = np.array(range(len(tmpDf.index)))   # create new array for the indices\n",
    "        np.random.shuffle(sInd)     # shuffle indices\n",
    "        tmpGender = tmpDf[shuffle].iloc[sInd]   # shuffle gender\n",
    "        tmpGender = tmpGender.reset_index(drop = True)  # reorder indices\n",
    "        \n",
    "        ## insert the shuffled variable into the dataframe\n",
    "        tmpDf[shuffle] = tmpGender\n",
    "        ## calculate test statistic\n",
    "        stat[i] = fcn(tmpDf)\n",
    "    \n",
    "    # calculate p-value = probability of sample being greater than empStat\n",
    "    empStat = fcn(data)     # empStat = empirical stat aka baseline\n",
    "\n",
    "    # plot histogram of test statistic\n",
    "    plt.hist(stat)\n",
    "    plt.axvline(x = empStat, color = \"r\")\n",
    "\n",
    "    if sides == 1:\n",
    "        p_value = sum(stat >= empStat)/len(stat)\n",
    "    elif sides == 2:\n",
    "        p_value = sum(np.absolute(stat) >= empStat)/len(stat)\n",
    "        plt.axvline(x = -empStat, color = \"r\")\n",
    "    \n",
    "    plt.show()\n",
    "\n",
    "    print(\"p-value is p =\" ,p_value)\n"
   ]
  },
  {
   "cell_type": "markdown",
   "metadata": {},
   "source": [
    "### Question 5: Randomization test (5pts)\n",
    "Perform a randomization test for the Chi-square test of independence. Your function should plot the histogram and report the p-value."
   ]
  },
  {
   "cell_type": "code",
   "execution_count": 7,
   "metadata": {},
   "outputs": [
    {
     "data": {
      "image/png": "[encoded data removed]",
      "text/plain": [
       "<Figure size 640x480 with 1 Axes>"
      ]
     },
     "metadata": {},
     "output_type": "display_data"
    },
    {
     "name": "stdout",
     "output_type": "stream",
     "text": [
      "p-value is p = 0.074\n"
     ]
    }
   ],
   "source": [
    "permutation_test(numIter = 5000, sides = 1)"
   ]
  },
  {
   "cell_type": "markdown",
   "metadata": {},
   "source": [
    "### Question 6: Conclusion (5pts)\n",
    "Written response: Based on the results, what can you conclude from this test? "
   ]
  },
  {
   "cell_type": "markdown",
   "metadata": {},
   "source": [
    "The p-value p = 0.07 is less than the chi-squared value, and so there is no evidence against the null hypothesis and we fail to reject that director gender and film genre are independent."
   ]
  },
  {
   "cell_type": "markdown",
   "metadata": {},
   "source": [
    "# TASK 2: Randomization test for mean differences (25pts)\n",
    "In this task we will test the hypothesis that male and female directors differ in their annual income. Note that the hypothesis is undirected, meaning it could mean either that men earn more than women, or that women earn more than men."
   ]
  },
  {
   "cell_type": "markdown",
   "metadata": {},
   "source": [
    "### Question 1: Null hypothesis (5pts)\n",
    "Formulate the Null-hypothesis. "
   ]
  },
  {
   "cell_type": "markdown",
   "metadata": {},
   "source": [
    "H0: director gender and annual income are independent, and mean(male income) == mean(female income).\n",
    "\n",
    "HA: director gender and annual income are dependent, and mean(male income) != mean(female income)."
   ]
  },
  {
   "cell_type": "markdown",
   "metadata": {},
   "source": [
    "### Question 2: Difference of means (8pts)\n",
    "Write a function that calculates and returns the difference in director salaries depending on the gender (male average income – female average income). Report the value. "
   ]
  },
  {
   "cell_type": "code",
   "execution_count": 8,
   "metadata": {},
   "outputs": [
    {
     "data": {
      "text/plain": [
       "0.6390446473389164"
      ]
     },
     "execution_count": 8,
     "metadata": {},
     "output_type": "execute_result"
    }
   ],
   "source": [
    "def diffIncome(data = D):\n",
    "    male = data[(data.dirGender == \"male\")]\n",
    "    maleInc = male[\"dirIncome\"].mean()  # mean of dirIncomes of males\n",
    "    fem = data[(data.dirGender == \"female\")]\n",
    "    femInc = fem[\"dirIncome\"].mean()  # mean of dirIncomes of females\n",
    "    diff_income = maleInc - femInc  # difference in incomes (ave male inc - ave female inc)\n",
    "    \n",
    "    return diff_income   \n",
    "\n",
    "diffIncome()"
   ]
  },
  {
   "cell_type": "markdown",
   "metadata": {
    "collapsed": true
   },
   "source": [
    "### Question 3:  Randomization test (7pts)\n",
    "Use your randomization test function to perform a randomization test to determine whether the reported difference is statistical significant. Plot a histogram of the null-distribution and the real value. Report the p-value for the two-sided test. "
   ]
  },
  {
   "cell_type": "code",
   "execution_count": 9,
   "metadata": {},
   "outputs": [
    {
     "data": {
      "image/png": "[encoded data removed]",
      "text/plain": [
       "<Figure size 640x480 with 1 Axes>"
      ]
     },
     "metadata": {},
     "output_type": "display_data"
    },
    {
     "name": "stdout",
     "output_type": "stream",
     "text": [
      "p-value is p = 0.0\n"
     ]
    }
   ],
   "source": [
    "permutation_test(fcn = diffIncome, sides = 2)"
   ]
  },
  {
   "cell_type": "markdown",
   "metadata": {},
   "source": [
    "### Question 4: Conclusion (5pts)\n",
    "What do you conclude about the relationship between gender and salary? What can you conclude about the claim that there is gender discrimination in the American film industry?  \n"
   ]
  },
  {
   "cell_type": "markdown",
   "metadata": {},
   "source": [
    "The p-value p = 0.0 indicates evidence against the null hypothesis and we reject it to conclude that director gender and salary are dependent and are not equal. Nothing can be concluded about the claim that there is gender discrimination in the American film industry without further analysis, even if these results suggest it is prevalent."
   ]
  },
  {
   "cell_type": "markdown",
   "metadata": {
    "collapsed": true
   },
   "source": [
    "# Task 3: Monte-Carlo simulation test (35pt)\n",
    "People providing an organ for donation sometimes seek help from a medical consultant. These consultants assist the patient in all aspects of the surgery. Patients might choose a consultant based in part on the historical complication rate of the consultant's clients. Consultant R tries to attract patients by noting the average complication rate for liver donor surgeries in the US is about 10%, but her clients have had only 3 complications in the 62 liver donor surgeries she has facilitated. She claims this is strong evidence that her work meaningfully contributes to reducing complications (and therefore she should be hired!).\n",
    "### Question 1: Monte Carlo simulation (15pts)\n",
    "Write a function (monteCarloSim) that simulates coin tossing. On each trial, the function should produce a specific number (N) of coin tosses and record the number of successes (heads). It should repeat this experiment numIter number of times. The inputs to the function should be a) probability of a success on each coin toss, b) the number of coin tosses per trial (N) and c) the number of trials. The function should return an np.array(range(numIter)) that holds the recorded number of heads for all trials (see lecture handout for tips)."
   ]
  },
  {
   "cell_type": "code",
   "execution_count": 10,
   "metadata": {},
   "outputs": [],
   "source": [
    "def monteCarloSim(H0prob, N, numIter):\n",
    "    # create empty array\n",
    "    numHeads = np.array(range(numIter), dtype= \"float64\")\n",
    "    \n",
    "    for i in range(numIter):\n",
    "        # randomly generate 0 or 1, N times\n",
    "        toss = np.random.choice([0, 1], N, [1 - H0prob, H0prob])\n",
    "        numHeads[i] = toss.sum()   # counts how many there are \n",
    "    return numHeads\n",
    "    \n",
    "# a = monteCarloSim(H0prob = 0.1, N = 62, numIter = 1000)\n",
    "# a\n",
    "\n",
    "# Answers\n",
    "# def monteCarloSim(p,N,numIter):\n",
    "#     # does the montecarlo simulation \n",
    "#     # Inputs:\n",
    "#     # p : probability of success\n",
    "#     # N : number of coin tosses\n",
    "#     # numIter: number of iteration\n",
    "#     # Outputs:\n",
    "#     # numHeads: distribution for the number of heads\n",
    "    \n",
    "#     numHeads = np.array(range(numIter),dtype = 'float64')  # initialize array\n",
    "\n",
    "#     for i in range(numIter):\n",
    "#         options = [0,1] # possible outcomes\n",
    "#         probDist = [1-p,p] # the probability associated for each possible outcome\n",
    "        \n",
    "#         # Solution 1: use random choice and sum over hits \n",
    "#         a=np.random.choice(options,N,p=probDist)\n",
    "#         numHeads[i]=a.sum()  # counts how many times you get heads\n",
    "#         # Solution 2: Use random binomial \n",
    "#         # numHeads[i]=np.random.binomial(N,p) \n",
    "#     return numHeads"
   ]
  },
  {
   "cell_type": "markdown",
   "metadata": {},
   "source": [
    "### Question 2: Monte Carlo Test (15pts)\n",
    "Write a function (monteCarloTest) that uses monteCarloSim (Question 1) to simulate 2000 trials of a N coin tosses. \n",
    "The function should take as input arguments: \n",
    "\n",
    "* `H0prob`: The probability of heads under the Null hypothesis\n",
    "* `N`: The number of coin throws per trial \n",
    "* `numHeads`: The number of observed coin tosses.  \n",
    "\n",
    "After getting the simulation result from `monteCarloSim`, the function should plot a histogram of the recorded number of heads, and mark the real measured number (`numHeads`) with a vertical line. The function should print out the probability that the simulated number of heads is smaller than or equal to the measured number of heads.  \n",
    "\n",
    "Use the function to evaluate the medical advisor example from the lecture: Determine the probability to get 3 complications in 62 cases if the probability of a complication in the population is known to be 10%. "
   ]
  },
  {
   "cell_type": "code",
   "execution_count": 13,
   "metadata": {},
   "outputs": [],
   "source": [
    "def monteCarloTest(H0prob, N, numHeads):\n",
    "    # simulate 2000 trials into monteCarloSim\n",
    "    sim = monteCarloSim(H0prob, N, numIter = 2000)\n",
    "    \n",
    "    # plot histogram\n",
    "    plt.hist(sim)\n",
    "    plt.axvline(x = numHeads, color = \"r\")\n",
    "    p = sum(sim <= numHeads)/len(sim)\n",
    "    \n",
    "    # print probability\n",
    "    print(\"probability of heads is\", p)\n",
    "    return p"
   ]
  },
  {
   "cell_type": "code",
   "execution_count": 12,
   "metadata": {},
   "outputs": [
    {
     "name": "stdout",
     "output_type": "stream",
     "text": [
      "probability of heads is 0.0\n"
     ]
    },
    {
     "data": {
      "text/plain": [
       "0.0"
      ]
     },
     "execution_count": 12,
     "metadata": {},
     "output_type": "execute_result"
    },
    {
     "data": {
      "image/png": "[encoded data removed]",
      "text/plain": [
       "<Figure size 640x480 with 1 Axes>"
      ]
     },
     "metadata": {},
     "output_type": "display_data"
    }
   ],
   "source": [
    "monteCarloTest(H0prob = 0.1, N = 62, numHeads = 3)"
   ]
  },
  {
   "cell_type": "markdown",
   "metadata": {},
   "source": [
    "### Question 3: Conclusion (5pts)\n",
    "Written answer: What do you conclude about the claim that the work of advisor R is lowering complication rates?"
   ]
  },
  {
   "cell_type": "markdown",
   "metadata": {},
   "source": [
    "The p-value p = 0.0 indicates the probability that 3 or less complications occur for 62 subjects based on the population rate of 10%. Probability is 0.0%, meaning the population rate of 10% is not ever lower than the measured rate (3/62). We reject the null hypothesis based on these results. This is evidence that advisor R's practices are lowering the complication rate to less than the population average, and they should be hired."
   ]
  }
 ],
 "metadata": {
  "kernelspec": {
   "display_name": "Python 3 (ipykernel)",
   "language": "python",
   "name": "python3"
  },
  "language_info": {
   "codemirror_mode": {
    "name": "ipython",
    "version": 3
   },
   "file_extension": ".py",
   "mimetype": "text/x-python",
   "name": "python",
   "nbconvert_exporter": "python",
   "pygments_lexer": "ipython3",
   "version": "3.9.13"
  },
  "vscode": {
   "interpreter": {
    "hash": "61143bbfde8c498eb623125e3842ac0cb52cf49f235d30b5cbd67890360fdf19"
   }
  }
 },
 "nbformat": 4,
 "nbformat_minor": 1
}
